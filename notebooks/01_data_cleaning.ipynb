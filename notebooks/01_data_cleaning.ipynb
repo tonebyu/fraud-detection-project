{
 "cells": [
  {
   "cell_type": "markdown",
   "id": "0747c09d",
   "metadata": {},
   "source": [
    "### 1 Load and Understand the data sets"
   ]
  },
  {
   "cell_type": "code",
   "execution_count": 18,
   "id": "f11cdd37",
   "metadata": {},
   "outputs": [],
   "source": [
    "# Importhing important Libraries \n",
    "import sys\n",
    "import os\n",
    "sys.path.append(os.path.abspath(\"..\"))\n",
    "import pandas as pd\n",
    "import seaborn as sns\n",
    "import matplotlib.pyplot as plt\n",
    "from tqdm import tqdm"
   ]
  },
  {
   "cell_type": "markdown",
   "id": "b0d85bb5",
   "metadata": {},
   "source": [
    "#### 1.1 Load the dataset"
   ]
  },
  {
   "cell_type": "code",
   "execution_count": 10,
   "id": "45e79ee4",
   "metadata": {},
   "outputs": [],
   "source": [
    "#1. Load the dataset\n",
    "fraud_df = pd.read_csv(\"../data/Fraud_Data.csv\")\n",
    "ip_df = pd.read_csv(\"../data/IpAddress_to_Country.csv\")\n",
    "credit_df = pd.read_csv(\"../data/creditcard.csv\")"
   ]
  },
  {
   "cell_type": "markdown",
   "id": "22286191",
   "metadata": {},
   "source": [
    "#### 1.2 understand the data"
   ]
  },
  {
   "cell_type": "code",
   "execution_count": 11,
   "id": "29569aaa",
   "metadata": {},
   "outputs": [
    {
     "data": {
      "text/plain": [
       "(   user_id          signup_time        purchase_time  purchase_value  \\\n",
       " 0    22058  2015-02-24 22:55:49  2015-04-18 02:47:11              34   \n",
       " 1   333320  2015-06-07 20:39:50  2015-06-08 01:38:54              16   \n",
       " 2     1359  2015-01-01 18:52:44  2015-01-01 18:52:45              15   \n",
       " 3   150084  2015-04-28 21:13:25  2015-05-04 13:54:50              44   \n",
       " 4   221365  2015-07-21 07:09:52  2015-09-09 18:40:53              39   \n",
       " \n",
       "        device_id source browser sex  age    ip_address  class  \n",
       " 0  QVPSPJUOCKZAR    SEO  Chrome   M   39  7.327584e+08      0  \n",
       " 1  EOGFQPIZPYXFZ    Ads  Chrome   F   53  3.503114e+08      0  \n",
       " 2  YSSKYOSJHPPLJ    SEO   Opera   M   53  2.621474e+09      1  \n",
       " 3  ATGTXKYKUDUQN    SEO  Safari   M   41  3.840542e+09      0  \n",
       " 4  NAUITBZFJKHWW    Ads  Safari   M   45  4.155831e+08      0  ,\n",
       "    lower_bound_ip_address  upper_bound_ip_address    country\n",
       " 0              16777216.0                16777471  Australia\n",
       " 1              16777472.0                16777727      China\n",
       " 2              16777728.0                16778239      China\n",
       " 3              16778240.0                16779263  Australia\n",
       " 4              16779264.0                16781311      China,\n",
       "    Time        V1        V2        V3        V4        V5        V6        V7  \\\n",
       " 0   0.0 -1.359807 -0.072781  2.536347  1.378155 -0.338321  0.462388  0.239599   \n",
       " 1   0.0  1.191857  0.266151  0.166480  0.448154  0.060018 -0.082361 -0.078803   \n",
       " 2   1.0 -1.358354 -1.340163  1.773209  0.379780 -0.503198  1.800499  0.791461   \n",
       " 3   1.0 -0.966272 -0.185226  1.792993 -0.863291 -0.010309  1.247203  0.237609   \n",
       " 4   2.0 -1.158233  0.877737  1.548718  0.403034 -0.407193  0.095921  0.592941   \n",
       " \n",
       "          V8        V9  ...       V21       V22       V23       V24       V25  \\\n",
       " 0  0.098698  0.363787  ... -0.018307  0.277838 -0.110474  0.066928  0.128539   \n",
       " 1  0.085102 -0.255425  ... -0.225775 -0.638672  0.101288 -0.339846  0.167170   \n",
       " 2  0.247676 -1.514654  ...  0.247998  0.771679  0.909412 -0.689281 -0.327642   \n",
       " 3  0.377436 -1.387024  ... -0.108300  0.005274 -0.190321 -1.175575  0.647376   \n",
       " 4 -0.270533  0.817739  ... -0.009431  0.798278 -0.137458  0.141267 -0.206010   \n",
       " \n",
       "         V26       V27       V28  Amount  Class  \n",
       " 0 -0.189115  0.133558 -0.021053  149.62      0  \n",
       " 1  0.125895 -0.008983  0.014724    2.69      0  \n",
       " 2 -0.139097 -0.055353 -0.059752  378.66      0  \n",
       " 3 -0.221929  0.062723  0.061458  123.50      0  \n",
       " 4  0.502292  0.219422  0.215153   69.99      0  \n",
       " \n",
       " [5 rows x 31 columns])"
      ]
     },
     "execution_count": 11,
     "metadata": {},
     "output_type": "execute_result"
    }
   ],
   "source": [
    "#2.  Understanding the data\n",
    "fraud_df.head(), ip_df.head(), credit_df.head()"
   ]
  },
  {
   "cell_type": "markdown",
   "id": "32d86ac4",
   "metadata": {},
   "source": [
    "#### 1.3 Explore Missing Value"
   ]
  },
  {
   "cell_type": "code",
   "execution_count": 12,
   "id": "dab248fa",
   "metadata": {},
   "outputs": [
    {
     "name": "stdout",
     "output_type": "stream",
     "text": [
      "Fraud Data:\n",
      " user_id           0\n",
      "signup_time       0\n",
      "purchase_time     0\n",
      "purchase_value    0\n",
      "device_id         0\n",
      "source            0\n",
      "browser           0\n",
      "sex               0\n",
      "age               0\n",
      "ip_address        0\n",
      "class             0\n",
      "dtype: int64\n",
      "\n",
      "Credit Card Data:\n",
      " Time      0\n",
      "V1        0\n",
      "V2        0\n",
      "V3        0\n",
      "V4        0\n",
      "V5        0\n",
      "V6        0\n",
      "V7        0\n",
      "V8        0\n",
      "V9        0\n",
      "V10       0\n",
      "V11       0\n",
      "V12       0\n",
      "V13       0\n",
      "V14       0\n",
      "V15       0\n",
      "V16       0\n",
      "V17       0\n",
      "V18       0\n",
      "V19       0\n",
      "V20       0\n",
      "V21       0\n",
      "V22       0\n",
      "V23       0\n",
      "V24       0\n",
      "V25       0\n",
      "V26       0\n",
      "V27       0\n",
      "V28       0\n",
      "Amount    0\n",
      "Class     0\n",
      "dtype: int64\n",
      "\n",
      "IP to Country Data:\n",
      " lower_bound_ip_address    0\n",
      "upper_bound_ip_address    0\n",
      "country                   0\n",
      "dtype: int64\n"
     ]
    }
   ],
   "source": [
    "#3. Explore missing values\n",
    "print(\"Fraud Data:\\n\", fraud_df.isnull().sum())\n",
    "print(\"\\nCredit Card Data:\\n\", credit_df.isnull().sum())\n",
    "print(\"\\nIP to Country Data:\\n\", ip_df.isnull().sum())"
   ]
  },
  {
   "cell_type": "markdown",
   "id": "637c4dcd",
   "metadata": {},
   "source": [
    "### 2. Data Cleaning"
   ]
  },
  {
   "cell_type": "code",
   "execution_count": 16,
   "id": "a9b92504",
   "metadata": {},
   "outputs": [],
   "source": [
    "#4. Data Cleaning\n",
    "# Clean and convert datetime\n",
    "fraud_df['signup_time'] = pd.to_datetime(fraud_df['signup_time'], errors='coerce')\n",
    "fraud_df['purchase_time'] = pd.to_datetime(fraud_df['purchase_time'], errors='coerce')\n",
    "\n",
    "# Drop rows with failed datetime parsing\n",
    "fraud_df.dropna(subset=['signup_time', 'purchase_time'], inplace=True)\n",
    "\n",
    "# Drop duplicates\n",
    "fraud_df.drop_duplicates(inplace=True)\n",
    "ip_df.drop_duplicates(inplace=True)\n",
    "credit_df.drop_duplicates(inplace=True)\n",
    "\n",
    "# Save cleaned datasets\n",
    "fraud_df.to_csv('../data/cleaned_fraud_data.csv', index=False)\n",
    "ip_df.to_csv('../data/cleaned_ip_data.csv', index=False)\n",
    "credit_df.to_csv('../data/cleaned_creditcard_data.csv', index=False)\n"
   ]
  },
  {
   "cell_type": "markdown",
   "id": "38c7aa8f",
   "metadata": {},
   "source": [
    "### 3. EDA Univariate and Bivariate Aanlysis"
   ]
  },
  {
   "cell_type": "code",
   "execution_count": 19,
   "id": "65f4a7c6",
   "metadata": {},
   "outputs": [
    {
     "data": {
      "image/png": "[encoded data removed]",
      "text/plain": [
       "<Figure size 600x400 with 1 Axes>"
      ]
     },
     "metadata": {},
     "output_type": "display_data"
    },
    {
     "data": {
      "image/png": "[encoded data removed]",
      "text/plain": [
       "<Figure size 600x400 with 1 Axes>"
      ]
     },
     "metadata": {},
     "output_type": "display_data"
    },
    {
     "data": {
      "image/png": "[encoded data removed]",
      "text/plain": [
       "<Figure size 600x400 with 1 Axes>"
      ]
     },
     "metadata": {},
     "output_type": "display_data"
    }
   ],
   "source": [
    "# 📥 Load cleaned data\n",
    "\n",
    "# Load cleaned fraud dataset\n",
    "fraud_df = pd.read_csv(\"../data/cleaned_fraud_data.csv\", parse_dates=['signup_time', 'purchase_time'])\n",
    "\n",
    "# 🧼 Optional: Ensure datetime format if not already parsed\n",
    "fraud_df['signup_time'] = pd.to_datetime(fraud_df['signup_time'], errors='coerce')\n",
    "fraud_df['purchase_time'] = pd.to_datetime(fraud_df['purchase_time'], errors='coerce')\n",
    "\n",
    "# Set Seaborn style\n",
    "sns.set(style=\"whitegrid\", palette=\"pastel\")\n",
    "\n",
    "# 📊 Class distribution\n",
    "plt.figure(figsize=(6,4))\n",
    "sns.countplot(data=fraud_df, x='class')\n",
    "plt.title(\"Class Distribution - E-commerce\")\n",
    "plt.xlabel(\"Fraudulent (1) vs Non-Fraudulent (0)\")\n",
    "plt.ylabel(\"Count\")\n",
    "plt.show()\n",
    "\n",
    "# 🧑 Age distribution\n",
    "plt.figure(figsize=(6,4))\n",
    "sns.histplot(data=fraud_df, x='age', kde=True, bins=30)\n",
    "plt.title(\"User Age Distribution\")\n",
    "plt.xlabel(\"Age\")\n",
    "plt.ylabel(\"Density\")\n",
    "plt.show()\n",
    "\n",
    "# 💰 Purchase value vs class (Bivariate)\n",
    "plt.figure(figsize=(6,4))\n",
    "sns.boxplot(x='class', y='purchase_value', data=fraud_df)\n",
    "plt.title(\"Purchase Value by Fraud Status\")\n",
    "plt.xlabel(\"Fraudulent (1) vs Non-Fraudulent (0)\")\n",
    "plt.ylabel(\"Purchase Value\")\n",
    "plt.show()\n"
   ]
  },
  {
   "cell_type": "markdown",
   "id": "3714241b",
   "metadata": {},
   "source": [
    "### 4. Merge Datasets for Geolocation Analysis\n"
   ]
  },
  {
   "cell_type": "markdown",
   "id": "07e419d1",
   "metadata": {},
   "source": [
    "#### 4.1 Convert IP addresses to integer format\n"
   ]
  },
  {
   "cell_type": "code",
   "execution_count": 20,
   "id": "ef92935b",
   "metadata": {},
   "outputs": [],
   "source": [
    "# Load cleaned datasets\n",
    "fraud_df = pd.read_csv(\"../data/cleaned_fraud_data.csv\", parse_dates=['signup_time', 'purchase_time'])\n",
    "ip_df = pd.read_csv(\"../data/cleaned_ip_data.csv\")\n",
    "# Convert IPs to integers\n",
    "def ip_to_int(ip_str):\n",
    "    try:\n",
    "        return int(ipaddress.IPv4Address(ip_str))\n",
    "    except:\n",
    "        return None\n",
    "\n",
    "fraud_df['ip_int'] = fraud_df['ip_address'].apply(ip_to_int)\n",
    "ip_df['lower'] = ip_df['lower_bound_ip_address'].apply(ip_to_int)\n",
    "ip_df['upper'] = ip_df['upper_bound_ip_address'].apply(ip_to_int)\n"
   ]
  },
  {
   "cell_type": "markdown",
   "id": "38343ee2",
   "metadata": {},
   "source": [
    "#### 4.2 Merge Fraud_Data.csv with IpAddress_to_Country.csv\n"
   ]
  },
  {
   "cell_type": "code",
   "execution_count": 21,
   "id": "25112028",
   "metadata": {},
   "outputs": [
    {
     "name": "stderr",
     "output_type": "stream",
     "text": [
      "100%|██████████| 151112/151112 [02:28<00:00, 1018.95it/s]\n"
     ]
    }
   ],
   "source": [
    "# Match IP to country\n",
    "def find_country(ip_val):\n",
    "    match = ip_df[(ip_df['lower'] <= ip_val) & (ip_df['upper'] >= ip_val)]\n",
    "    return match['country'].values[0] if not match.empty else 'Unknown'\n",
    "\n",
    "tqdm.pandas()\n",
    "fraud_df['country'] = fraud_df['ip_int'].progress_apply(find_country)"
   ]
  },
  {
   "cell_type": "markdown",
   "id": "7bb32867",
   "metadata": {},
   "source": [
    "### 5. Feature Engineering"
   ]
  },
  {
   "cell_type": "markdown",
   "id": "d79c6a53",
   "metadata": {},
   "source": [
    "#### 5.1 Transaction frequency and velocity for Fraud_Data.csv\n"
   ]
  },
  {
   "cell_type": "code",
   "execution_count": 23,
   "id": "5a85f026",
   "metadata": {},
   "outputs": [],
   "source": [
    "if 'user_id' in fraud_df.columns:\n",
    "    fraud_df = fraud_df.sort_values(by=['user_id', 'purchase_time'])\n",
    "    fraud_df['prev_purchase_time'] = fraud_df.groupby('user_id')['purchase_time'].shift(1)\n",
    "    fraud_df['transaction_velocity'] = (fraud_df['purchase_time'] - fraud_df['prev_purchase_time']).dt.total_seconds()\n",
    "else:\n",
    "    fraud_df['transaction_velocity'] = None\n"
   ]
  },
  {
   "cell_type": "markdown",
   "id": "1c723438",
   "metadata": {},
   "source": [
    "#### 5.2 Time-Based features for Fraud_Data.csv\n",
    "hour_of _day, Day_of_week\n"
   ]
  },
  {
   "cell_type": "code",
   "execution_count": 24,
   "id": "88b6baa3",
   "metadata": {},
   "outputs": [],
   "source": [
    "# Hour of day\n",
    "fraud_df['purchase_hour'] = fraud_df['purchase_time'].dt.hour\n",
    "\n",
    "# Day of week\n",
    "fraud_df['purchase_dayofweek'] = fraud_df['purchase_time'].dt.dayofweek"
   ]
  },
  {
   "cell_type": "markdown",
   "id": "4b5871df",
   "metadata": {},
   "source": [
    "#### 5.3 time_since_signup: Calculate the duration between signup_time and purchase_time."
   ]
  },
  {
   "cell_type": "code",
   "execution_count": 25,
   "id": "b35463b0",
   "metadata": {},
   "outputs": [],
   "source": [
    "# Time since signup\n",
    "fraud_df['time_since_signup'] = (fraud_df['purchase_time'] - fraud_df['signup_time']).dt.total_seconds()\n"
   ]
  },
  {
   "cell_type": "markdown",
   "id": "12f734e7",
   "metadata": {},
   "source": [
    "### 6. Data Transformation:"
   ]
  },
  {
   "cell_type": "markdown",
   "id": "5c0b5d35",
   "metadata": {},
   "source": [
    "#### 6.1 Handle Class Imbalance"
   ]
  },
  {
   "cell_type": "code",
   "execution_count": 35,
   "id": "54e25781",
   "metadata": {},
   "outputs": [
    {
     "name": "stdout",
     "output_type": "stream",
     "text": [
      "X shape: (0, 8)\n",
      "y shape: (0,)\n"
     ]
    }
   ],
   "source": [
    "print(\"X shape:\", X.shape)\n",
    "print(\"y shape:\", y.shape)\n"
   ]
  },
  {
   "cell_type": "code",
   "execution_count": null,
   "id": "1b8187ce",
   "metadata": {},
   "outputs": [],
   "source": [
    "from imblearn.over_sampling import SMOTE\n",
    "from sklearn.model_selection import train_test_split\n",
    "\n",
    "# Select features and target\n",
    "X = fraud_df.drop(columns=['class'])\n",
    "y = fraud_df['class']\n",
    "\n",
    "# Keep numeric only and fill missing values\n",
    "X = X.select_dtypes(include='number').fillna(X.mean())  # ← updated\n",
    "\n",
    "# Align and reset index\n",
    "y = y.loc[X.index]\n",
    "X = X.reset_index(drop=True)\n",
    "y = y.reset_index(drop=True)\n",
    "\n",
    "# Sanity check\n",
    "print(\"Class counts:\\n\", y.value_counts())\n",
    "\n",
    "# Split\n",
    "X_train, X_test, y_train, y_test = train_test_split(\n",
    "    X, y, stratify=y, random_state=42)\n",
    "\n",
    "# Apply SMOTE\n",
    "smote = SMOTE(random_state=42)\n",
    "X_train_bal, y_train_bal = smote.fit_resample(X_train, y_train)\n",
    "\n",
    "print(\"After SMOTE:\", pd.Series(y_train_bal).value_counts())\n"
   ]
  },
  {
   "cell_type": "markdown",
   "id": "d7b70591",
   "metadata": {},
   "source": [
    "#### 6.2 Normalize / Scale Numerical Features"
   ]
  },
  {
   "cell_type": "code",
   "execution_count": null,
   "id": "5c72f798",
   "metadata": {},
   "outputs": [],
   "source": [
    "from sklearn.preprocessing import StandardScaler\n",
    "\n",
    "scaler = StandardScaler()\n",
    "\n",
    "# Scale training and test sets separately\n",
    "X_train_scaled = scaler.fit_transform(X_train_bal)\n",
    "X_test_scaled = scaler.transform(X_test)\n"
   ]
  },
  {
   "cell_type": "markdown",
   "id": "fad89c4a",
   "metadata": {},
   "source": [
    "#### 6.3 Encode Categorical Features"
   ]
  },
  {
   "cell_type": "markdown",
   "id": "48571402",
   "metadata": {},
   "source": [
    "from sklearn.preprocessing import LabelEncoder\n",
    "\n",
    "categorical_cols = ['browser', 'device', 'country']\n",
    "\n",
    "for col in categorical_cols:\n",
    "    le = LabelEncoder()\n",
    "    fraud_df[col] = le.fit_transform(fraud_df[col].astype(str))\n"
   ]
  },
  {
   "cell_type": "markdown",
   "id": "af484de8",
   "metadata": {},
   "source": [
    "#### Final Data set"
   ]
  },
  {
   "cell_type": "code",
   "execution_count": null,
   "id": "19d166ab",
   "metadata": {},
   "outputs": [],
   "source": [
    "fraud_df.to_csv(\"../data/fraud_df_engineered.csv\", index=False)\n"
   ]
  }
 ],
 "metadata": {
  "kernelspec": {
   "display_name": ".venv",
   "language": "python",
   "name": "python3"
  },
  "language_info": {
   "codemirror_mode": {
    "name": "ipython",
    "version": 3
   },
   "file_extension": ".py",
   "mimetype": "text/x-python",
   "name": "python",
   "nbconvert_exporter": "python",
   "pygments_lexer": "ipython3",
   "version": "3.11.0"
  }
 },
 "nbformat": 4,
 "nbformat_minor": 5
}
