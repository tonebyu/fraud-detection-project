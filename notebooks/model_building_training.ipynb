{
 "cells": [
  {
   "cell_type": "markdown",
   "id": "71ce90e9",
   "metadata": {},
   "source": [
    "###   Model Building and Training"
   ]
  },
  {
   "cell_type": "code",
   "execution_count": 1,
   "id": "a2b28c77",
   "metadata": {},
   "outputs": [],
   "source": [
    "# Importhing important Libraries \n",
    "import sys\n",
    "import os\n",
    "sys.path.append(os.path.abspath(\"..\"))\n",
    "import pandas as pd\n",
    "import seaborn as sns\n",
    "import matplotlib.pyplot as plt\n",
    "from tqdm import tqdm\n",
    "from sklearn.model_selection import train_test_split"
   ]
  },
  {
   "cell_type": "code",
   "execution_count": 23,
   "id": "e92964c6",
   "metadata": {},
   "outputs": [],
   "source": [
    "import pandas as pd\n",
    "import numpy as np\n",
    "import matplotlib.pyplot as plt\n",
    "import seaborn as sns\n",
    "from sklearn.model_selection import train_test_split\n",
    "from sklearn.linear_model import LogisticRegression\n",
    "from xgboost import XGBClassifier\n",
    "from sklearn.metrics import classification_report, confusion_matrix, roc_auc_score, average_precision_score, f1_score\n",
    "from sklearn.preprocessing import StandardScaler\n",
    "from imblearn.over_sampling import SMOTE\n",
    "import warnings\n",
    "warnings.filterwarnings(\"ignore\")"
   ]
  },
  {
   "cell_type": "markdown",
   "id": "8f4fb904",
   "metadata": {},
   "source": [
    "#### 1. Data Preparation"
   ]
  },
  {
   "cell_type": "code",
   "execution_count": 2,
   "id": "2973fba7",
   "metadata": {},
   "outputs": [],
   "source": [
    "credit_df = pd.read_csv(\"../data/creditcard.csv\")\n",
    "fraud_df = pd.read_csv(\"../data/Fraud_Data.csv\")"
   ]
  },
  {
   "cell_type": "code",
   "execution_count": 5,
   "id": "5ab8f4dd",
   "metadata": {},
   "outputs": [
    {
     "data": {
      "text/plain": [
       "Index(['Time', 'V1', 'V2', 'V3', 'V4', 'V5', 'V6', 'V7', 'V8', 'V9', 'V10',\n",
       "       'V11', 'V12', 'V13', 'V14', 'V15', 'V16', 'V17', 'V18', 'V19', 'V20',\n",
       "       'V21', 'V22', 'V23', 'V24', 'V25', 'V26', 'V27', 'V28', 'Amount',\n",
       "       'Class'],\n",
       "      dtype='object')"
      ]
     },
     "execution_count": 5,
     "metadata": {},
     "output_type": "execute_result"
    }
   ],
   "source": [
    "credit_df.columns"
   ]
  },
  {
   "cell_type": "code",
   "execution_count": 6,
   "id": "e436e4dd",
   "metadata": {},
   "outputs": [
    {
     "data": {
      "text/plain": [
       "Index(['user_id', 'signup_time', 'purchase_time', 'purchase_value',\n",
       "       'device_id', 'source', 'browser', 'sex', 'age', 'ip_address', 'class'],\n",
       "      dtype='object')"
      ]
     },
     "execution_count": 6,
     "metadata": {},
     "output_type": "execute_result"
    }
   ],
   "source": [
    "\n",
    "fraud_df.columns"
   ]
  },
  {
   "cell_type": "code",
   "execution_count": 7,
   "id": "4b6c0311",
   "metadata": {},
   "outputs": [],
   "source": [
    "# Preprocessing - Credit Card Data\n",
    "\n",
    "X_credit = credit_df.drop(columns=['Class'])\n",
    "y_credit = credit_df['Class']\n"
   ]
  },
  {
   "cell_type": "code",
   "execution_count": 10,
   "id": "810713f1",
   "metadata": {},
   "outputs": [],
   "source": [
    "# Standardize numeric features\n",
    "scaler_credit = StandardScaler()\n",
    "X_credit_scaled = scaler_credit.fit_transform(X_credit)\n"
   ]
  },
  {
   "cell_type": "code",
   "execution_count": 11,
   "id": "774e1ba3",
   "metadata": {},
   "outputs": [],
   "source": [
    "# Train-test split\n",
    "Xc_train, Xc_test, yc_train, yc_test = train_test_split(\n",
    "    X_credit_scaled, y_credit, test_size=0.3, stratify=y_credit, random_state=42)\n"
   ]
  },
  {
   "cell_type": "code",
   "execution_count": 12,
   "id": "09202fc6",
   "metadata": {},
   "outputs": [],
   "source": [
    "# Handle imbalance\n",
    "smote = SMOTE(random_state=42)\n",
    "Xc_train_bal, yc_train_bal = smote.fit_resample(Xc_train, yc_train)"
   ]
  },
  {
   "cell_type": "code",
   "execution_count": 13,
   "id": "4f61e432",
   "metadata": {},
   "outputs": [],
   "source": [
    "# 🧹 Preprocessing - Fraud_Data (E-Commerce)\n",
    "\n",
    "fraud_df = fraud_df.dropna()\n",
    "fraud_df['signup_time'] = pd.to_datetime(fraud_df['signup_time'])\n",
    "fraud_df['purchase_time'] = pd.to_datetime(fraud_df['purchase_time'])\n"
   ]
  },
  {
   "cell_type": "code",
   "execution_count": 14,
   "id": "e8d83458",
   "metadata": {},
   "outputs": [],
   "source": [
    "# Time difference feature\n",
    "fraud_df['time_diff_sec'] = (fraud_df['purchase_time'] - fraud_df['signup_time']).dt.total_seconds()"
   ]
  },
  {
   "cell_type": "code",
   "execution_count": 15,
   "id": "d8ebadf4",
   "metadata": {},
   "outputs": [],
   "source": [
    "# Drop ID/time columns\n",
    "fraud_df = fraud_df.drop(columns=['user_id', 'signup_time', 'purchase_time', 'device_id', 'ip_address'])"
   ]
  },
  {
   "cell_type": "code",
   "execution_count": 16,
   "id": "ac1c3f21",
   "metadata": {},
   "outputs": [],
   "source": [
    "# One-hot encode categoricals\n",
    "fraud_df = pd.get_dummies(fraud_df, columns=['source', 'browser', 'sex'], drop_first=True)\n"
   ]
  },
  {
   "cell_type": "code",
   "execution_count": 17,
   "id": "5b7b8226",
   "metadata": {},
   "outputs": [],
   "source": [
    "X_fraud = fraud_df.drop(columns=['class'])\n",
    "y_fraud = fraud_df['class']\n"
   ]
  },
  {
   "cell_type": "code",
   "execution_count": 18,
   "id": "13d43713",
   "metadata": {},
   "outputs": [],
   "source": [
    "# Scale\n",
    "scaler_fraud = StandardScaler()\n",
    "X_fraud_scaled = scaler_fraud.fit_transform(X_fraud)\n"
   ]
  },
  {
   "cell_type": "code",
   "execution_count": 19,
   "metadata": {},
   "outputs": [],
   "source": [
    "# Train-test split\n",
    "Xf_train, Xf_test, yf_train, yf_test = train_test_split(\n",
    "    X_fraud_scaled, y_fraud, test_size=0.3, stratify=y_fraud, random_state=42)"
   ]
  },
  {
   "cell_type": "code",
   "execution_count": 20,
   "id": "1737483c",
   "metadata": {},
   "outputs": [],
   "source": [
    "# Handle imbalance\n",
    "Xf_train_bal, yf_train_bal = smote.fit_resample(Xf_train, yf_train)\n"
   ]
  },
  {
   "cell_type": "code",
   "execution_count": 21,
   "id": "5a7a0e61",
   "metadata": {},
   "outputs": [],
   "source": [
    "# 🔍 Evaluation Function\n",
    "\n",
    "def evaluate_model(model, X_train, y_train, X_test, y_test, label):\n",
    "    model.fit(X_train, y_train)\n",
    "    y_pred = model.predict(X_test)\n",
    "    y_prob = model.predict_proba(X_test)[:, 1]\n",
    "\n",
    "    print(f\"\\n📊 Evaluation Results for {label}:\")\n",
    "    print(\"-\" * 40)\n",
    "    print(\"F1 Score:\", f1_score(y_test, y_pred))\n",
    "    print(\"ROC AUC Score:\", roc_auc_score(y_test, y_prob))\n",
    "    print(\"Average Precision (AUC-PR):\", average_precision_score(y_test, y_prob))\n",
    "    print(\"\\nConfusion Matrix:\")\n",
    "    print(confusion_matrix(y_test, y_pred))\n",
    "    print(\"\\nClassification Report:\")\n",
    "    print(classification_report(y_test, y_pred))\n"
   ]
  },
  {
   "cell_type": "code",
   "execution_count": 22,
   "id": "05fef885",
   "metadata": {},
   "outputs": [],
   "source": [
    "# 🧪 Train and Compare Models\n",
    "lr_model = LogisticRegression(solver='liblinear')"
   ]
  },
  {
   "cell_type": "code",
   "execution_count": 24,
   "id": "ef86ca07",
   "metadata": {},
   "outputs": [],
   "source": [
    "xgb_model = XGBClassifier(use_label_encoder=False, eval_metric='logloss', random_state=42)\n"
   ]
  },
  {
   "cell_type": "code",
   "execution_count": 25,
   "id": "448d97b5",
   "metadata": {},
   "outputs": [
    {
     "name": "stdout",
     "output_type": "stream",
     "text": [
      "\n",
      "=== 🚀 Credit Card Dataset ===\n",
      "\n",
      "📊 Evaluation Results for Logistic Regression:\n",
      "----------------------------------------\n",
      "F1 Score: 0.12009237875288684\n",
      "ROC AUC Score: 0.9670318671447107\n",
      "Average Precision (AUC-PR): 0.7071301472238914\n",
      "\n",
      "Confusion Matrix:\n",
      "[[83408  1887]\n",
      " [   18   130]]\n",
      "\n",
      "Classification Report:\n",
      "              precision    recall  f1-score   support\n",
      "\n",
      "           0       1.00      0.98      0.99     85295\n",
      "           1       0.06      0.88      0.12       148\n",
      "\n",
      "    accuracy                           0.98     85443\n",
      "   macro avg       0.53      0.93      0.55     85443\n",
      "weighted avg       1.00      0.98      0.99     85443\n",
      "\n",
      "\n",
      "📊 Evaluation Results for XGBoost:\n",
      "----------------------------------------\n",
      "F1 Score: 0.7727272727272727\n",
      "ROC AUC Score: 0.9738266873474096\n",
      "Average Precision (AUC-PR): 0.8255596496077687\n",
      "\n",
      "Confusion Matrix:\n",
      "[[85254    41]\n",
      " [   29   119]]\n",
      "\n",
      "Classification Report:\n",
      "              precision    recall  f1-score   support\n",
      "\n",
      "           0       1.00      1.00      1.00     85295\n",
      "           1       0.74      0.80      0.77       148\n",
      "\n",
      "    accuracy                           1.00     85443\n",
      "   macro avg       0.87      0.90      0.89     85443\n",
      "weighted avg       1.00      1.00      1.00     85443\n",
      "\n"
     ]
    }
   ],
   "source": [
    "# Credit Card\n",
    "print(\"\\n=== 🚀 Credit Card Dataset ===\")\n",
    "evaluate_model(lr_model, Xc_train_bal, yc_train_bal, Xc_test, yc_test, \"Logistic Regression\")\n",
    "evaluate_model(xgb_model, Xc_train_bal, yc_train_bal, Xc_test, yc_test, \"XGBoost\")\n"
   ]
  },
  {
   "cell_type": "code",
   "execution_count": 26,
   "id": "115ba023",
   "metadata": {},
   "outputs": [
    {
     "name": "stdout",
     "output_type": "stream",
     "text": [
      "\n",
      "=== 🚀 E-Commerce Fraud Dataset ===\n",
      "\n",
      "📊 Evaluation Results for Logistic Regression:\n",
      "----------------------------------------\n",
      "F1 Score: 0.26915717539863326\n",
      "ROC AUC Score: 0.7567761681163193\n",
      "Average Precision (AUC-PR): 0.46708325704003706\n",
      "\n",
      "Confusion Matrix:\n",
      "[[26338 14751]\n",
      " [ 1291  2954]]\n",
      "\n",
      "Classification Report:\n",
      "              precision    recall  f1-score   support\n",
      "\n",
      "           0       0.95      0.64      0.77     41089\n",
      "           1       0.17      0.70      0.27      4245\n",
      "\n",
      "    accuracy                           0.65     45334\n",
      "   macro avg       0.56      0.67      0.52     45334\n",
      "weighted avg       0.88      0.65      0.72     45334\n",
      "\n",
      "\n",
      "📊 Evaluation Results for XGBoost:\n",
      "----------------------------------------\n",
      "F1 Score: 0.6800419224434796\n",
      "ROC AUC Score: 0.767079124200531\n",
      "Average Precision (AUC-PR): 0.6076537089384364\n",
      "\n",
      "Confusion Matrix:\n",
      "[[40926   163]\n",
      " [ 1974  2271]]\n",
      "\n",
      "Classification Report:\n",
      "              precision    recall  f1-score   support\n",
      "\n",
      "           0       0.95      1.00      0.97     41089\n",
      "           1       0.93      0.53      0.68      4245\n",
      "\n",
      "    accuracy                           0.95     45334\n",
      "   macro avg       0.94      0.77      0.83     45334\n",
      "weighted avg       0.95      0.95      0.95     45334\n",
      "\n"
     ]
    }
   ],
   "source": [
    "# E-Commerce Fraud Data\n",
    "print(\"\\n=== 🚀 E-Commerce Fraud Dataset ===\")\n",
    "evaluate_model(lr_model, Xf_train_bal, yf_train_bal, Xf_test, yf_test, \"Logistic Regression\")\n",
    "evaluate_model(xgb_model, Xf_train_bal, yf_train_bal, Xf_test, yf_test, \"XGBoost\")\n"
   ]
  }
 ],
 "metadata": {
  "kernelspec": {
   "display_name": ".venv",
   "language": "python",
   "name": "python3"
  },
  "language_info": {
   "codemirror_mode": {
    "name": "ipython",
    "version": 3
   },
   "file_extension": ".py",
   "mimetype": "text/x-python",
   "name": "python",
   "nbconvert_exporter": "python",
   "pygments_lexer": "ipython3",
   "version": "3.11.0"
  }
 },
 "nbformat": 4,
 "nbformat_minor": 5
}
